{
 "cells": [
  {
   "cell_type": "markdown",
   "id": "9cc9a5bc",
   "metadata": {},
   "source": [
    "1) Write a Python function to check whether a given number is a prime number or not"
   ]
  },
  {
   "cell_type": "code",
   "execution_count": null,
   "id": "41bb6169",
   "metadata": {},
   "outputs": [],
   "source": [
    "def is_prime(n):\n",
    "    if n <=1:\n",
    "        return False\n",
    "    for i in range(2, int(n**0.5) + 1):\n",
    "        if n % i == 0:\n",
    "            return False\n",
    "    return True\n",
    "\n",
    "n = int(input(\"Enter a number: \"))\n",
    "print(is_prime(n))"
   ]
  },
  {
   "cell_type": "code",
   "execution_count": 2,
   "id": "4b45e088",
   "metadata": {},
   "outputs": [
    {
     "name": "stdout",
     "output_type": "stream",
     "text": [
      "10\n"
     ]
    }
   ],
   "source": [
    "dictionary = {i : i**2 for i in range(1, 11)}\n",
    "max_key = max(dictionary, key=dictionary.get)\n",
    "print(max_key)"
   ]
  }
 ],
 "metadata": {
  "kernelspec": {
   "display_name": "Python 3",
   "language": "python",
   "name": "python3"
  },
  "language_info": {
   "codemirror_mode": {
    "name": "ipython",
    "version": 3
   },
   "file_extension": ".py",
   "mimetype": "text/x-python",
   "name": "python",
   "nbconvert_exporter": "python",
   "pygments_lexer": "ipython3",
   "version": "3.13.4"
  }
 },
 "nbformat": 4,
 "nbformat_minor": 5
}
