{
  "nbformat": 4,
  "nbformat_minor": 0,
  "metadata": {
    "colab": {
      "provenance": []
    },
    "kernelspec": {
      "name": "python3",
      "display_name": "Python 3"
    },
    "language_info": {
      "name": "python"
    }
  },
  "cells": [
    {
      "cell_type": "markdown",
      "source": [],
      "metadata": {
        "id": "sVpaO8eStK5Z"
      }
    },
    {
      "cell_type": "markdown",
      "source": [
        "Python Lists\n",
        "A list is a dynamic, ordered,mutable sequence of elements\n",
        "Characteristics:\n",
        "Indexed\n",
        "Mutable\n",
        "Allow Duplicates\n",
        "Heterogenous\n",
        "Dynamic size\n",
        "\n",
        "append(),extend(),insert(),remove(),pop(),clear(),index(),count(),reverse(),sort(),copy(),len(),sum(),max(),min()"
      ],
      "metadata": {
        "id": "CiT5oQ9NtQBe"
      }
    },
    {
      "cell_type": "code",
      "source": [
        "#Creating a List\n",
        "my_list = [10,20,30,40,50]\n",
        "print(\"List:\",my_list)"
      ],
      "metadata": {
        "colab": {
          "base_uri": "https://localhost:8080/"
        },
        "id": "T4IV_OdUsOSc",
        "outputId": "44c61540-2135-4356-d3dc-9ce72ebf2a68"
      },
      "execution_count": null,
      "outputs": [
        {
          "output_type": "stream",
          "name": "stdout",
          "text": [
            "List: [10, 20, 30, 40, 50]\n"
          ]
        }
      ]
    },
    {
      "cell_type": "markdown",
      "source": [],
      "metadata": {
        "id": "Yz1rfndXqw52"
      }
    },
    {
      "cell_type": "markdown",
      "source": [
        "# 1) Using Append **Function**"
      ],
      "metadata": {
        "id": "OiEslEhVt677"
      }
    },
    {
      "cell_type": "code",
      "source": [
        "#Append\n",
        "names = [\"Shriraj\",\"Sairaj\",\"Siddharth\"]\n",
        "names.append(\"Yash\")\n",
        "print(\"After Append :\",names)"
      ],
      "metadata": {
        "colab": {
          "base_uri": "https://localhost:8080/"
        },
        "id": "lkjt-BMltGgF",
        "outputId": "03da5185-f133-4ca4-b9f2-f8b1ebf6ce10"
      },
      "execution_count": null,
      "outputs": [
        {
          "output_type": "stream",
          "name": "stdout",
          "text": [
            "After Append : ['Shriraj', 'Sairaj', 'Siddharth', 'Yash']\n"
          ]
        }
      ]
    },
    {
      "cell_type": "markdown",
      "source": [
        "extend()"
      ],
      "metadata": {
        "id": "3yBbG6O-uI4I"
      }
    },
    {
      "cell_type": "code",
      "source": [
        "names1 = [\"Shriraj\",\"Sairaj\",\"Siddharth\"]\n",
        "names2 = [\"Bhoomi\",\"Smita\",\"Varad\"]\n",
        "names1.extend(names2)\n",
        "print(\"After extend: \",names1)"
      ],
      "metadata": {
        "colab": {
          "base_uri": "https://localhost:8080/"
        },
        "id": "n8_H11gWuM5y",
        "outputId": "4b8557f9-8001-4581-d9a1-bf315a506b1a"
      },
      "execution_count": null,
      "outputs": [
        {
          "output_type": "stream",
          "name": "stdout",
          "text": [
            "After extend:  ['Shriraj', 'Sairaj', 'Siddharth', 'Bhoomi', 'Smita', 'Varad']\n"
          ]
        }
      ]
    },
    {
      "cell_type": "markdown",
      "source": [
        "**3) insert()**"
      ],
      "metadata": {
        "id": "Mcx3QQhMvG2q"
      }
    },
    {
      "cell_type": "code",
      "source": [
        "names1 = [\"Shriraj\",\"Sairaj\",\"Siddharth\",\"Shriraj\"]\n",
        "names1.insert(1,\"Ananya\")\n",
        "names1.insert(3,\"Shreya\")\n",
        "print(\"After Insert\",names1)\n"
      ],
      "metadata": {
        "colab": {
          "base_uri": "https://localhost:8080/"
        },
        "id": "k29cs0WavLK7",
        "outputId": "033fab75-7e23-494d-e0f3-eadc47e6e2f6"
      },
      "execution_count": null,
      "outputs": [
        {
          "output_type": "stream",
          "name": "stdout",
          "text": [
            "After Insert ['Shriraj', 'Ananya', 'Sairaj', 'Shreya', 'Siddharth']\n"
          ]
        }
      ]
    },
    {
      "cell_type": "markdown",
      "source": [
        "**4) remove()**"
      ],
      "metadata": {
        "id": "0O79vhyFwLBo"
      }
    },
    {
      "cell_type": "code",
      "source": [
        "names1 = [\"Shriraj\",\"Sairaj\",\"Siddharth\",\"Shriraj\"]\n",
        "names1.remove(\"Shriraj\")#Removes the first one\n",
        "print(\"After remove: \",names1)"
      ],
      "metadata": {
        "colab": {
          "base_uri": "https://localhost:8080/"
        },
        "id": "qoUxZDU-wPQB",
        "outputId": "4743ee78-95fc-4610-8184-39b89ec6d299"
      },
      "execution_count": null,
      "outputs": [
        {
          "output_type": "stream",
          "name": "stdout",
          "text": [
            "After remove:  ['Sairaj', 'Siddharth', 'Shriraj']\n"
          ]
        }
      ]
    },
    {
      "cell_type": "markdown",
      "source": [
        "**5) pop()**"
      ],
      "metadata": {
        "id": "dv6RgExlxSaf"
      }
    },
    {
      "cell_type": "code",
      "source": [
        "num = [10,20,30,40]\n",
        "pop_value = num.pop()\n",
        "print(\"Popped value\",pop_value)\n",
        "print(\"After pop:\",num)\n",
        "\n",
        "\n",
        "string= [\"Shriraj\",\"Sairaj\",\"Siddharth\",\"Shriraj\"]\n",
        "pop_value = string.pop(3)\n",
        "print(\"Popped value\",pop_value)\n",
        "print(\"After pop:\",string)"
      ],
      "metadata": {
        "colab": {
          "base_uri": "https://localhost:8080/"
        },
        "id": "0i2R6HaCxZlr",
        "outputId": "f690cdb0-313c-4c92-9097-15b9751c893c"
      },
      "execution_count": null,
      "outputs": [
        {
          "output_type": "stream",
          "name": "stdout",
          "text": [
            "Popped value 40\n",
            "After pop: [10, 20, 30]\n",
            "Popped value Shriraj\n",
            "After pop: ['Shriraj', 'Sairaj', 'Siddharth']\n"
          ]
        }
      ]
    },
    {
      "cell_type": "markdown",
      "source": [
        "6)clear()"
      ],
      "metadata": {
        "id": "T51R14X-x_sc"
      }
    },
    {
      "cell_type": "code",
      "source": [
        "num = [10,20,30,40]\n",
        "num.clear()\n",
        "print(num)"
      ],
      "metadata": {
        "colab": {
          "base_uri": "https://localhost:8080/"
        },
        "id": "hihh84ZLyerT",
        "outputId": "bc08c883-4975-45c5-d8a0-109b953d0dbc"
      },
      "execution_count": null,
      "outputs": [
        {
          "output_type": "stream",
          "name": "stdout",
          "text": [
            "[]\n"
          ]
        }
      ]
    },
    {
      "cell_type": "markdown",
      "source": [
        "**Index(value)**"
      ],
      "metadata": {
        "id": "cxBd3PBryyKb"
      }
    },
    {
      "cell_type": "code",
      "source": [
        "num = [10,20,30,40]\n",
        "index_pos = num.index(30)\n",
        "print(\"Index of 30: \", index_pos)\n"
      ],
      "metadata": {
        "colab": {
          "base_uri": "https://localhost:8080/"
        },
        "id": "KMx2YdiIy2hZ",
        "outputId": "61621989-1668-4f52-8386-1164c9a6585c"
      },
      "execution_count": null,
      "outputs": [
        {
          "output_type": "stream",
          "name": "stdout",
          "text": [
            "Index of 30:  2\n"
          ]
        }
      ]
    },
    {
      "cell_type": "markdown",
      "source": [
        "**count()**"
      ],
      "metadata": {
        "id": "uf3m3vw8zWjZ"
      }
    },
    {
      "cell_type": "code",
      "source": [
        "cars = [\"Maserati\",\"Maserati\",\"Maserati\",\"Maserati\",\"Audi\",\"BMW\",\"BMW\"]\n",
        "print(cars.count(\"Maserati\"))\n"
      ],
      "metadata": {
        "colab": {
          "base_uri": "https://localhost:8080/"
        },
        "id": "l2h-43tiy4YU",
        "outputId": "c5c21c7c-2e64-4ffe-f76b-d5c8ec06cfe3"
      },
      "execution_count": null,
      "outputs": [
        {
          "output_type": "stream",
          "name": "stdout",
          "text": [
            "4\n"
          ]
        }
      ]
    },
    {
      "cell_type": "markdown",
      "source": [
        "reverse()"
      ],
      "metadata": {
        "id": "GV5T2Vj40MYR"
      }
    },
    {
      "cell_type": "code",
      "source": [
        "cars = [\"Maserati\",\"Maserati\",\"Maserati\",\"Maserati\",\"Audi\",\"BMW\",\"BMW\"]\n",
        "rev=cars.reverse()\n",
        "print(cars)"
      ],
      "metadata": {
        "colab": {
          "base_uri": "https://localhost:8080/"
        },
        "id": "9b0g-ZR30OZO",
        "outputId": "f8b75428-4cc8-45d6-ae32-e3eaa43577bf"
      },
      "execution_count": null,
      "outputs": [
        {
          "output_type": "stream",
          "name": "stdout",
          "text": [
            "['BMW', 'BMW', 'Audi', 'Maserati', 'Maserati', 'Maserati', 'Maserati']\n"
          ]
        }
      ]
    },
    {
      "cell_type": "markdown",
      "source": [
        "sort()"
      ],
      "metadata": {
        "id": "26ygqyLG068e"
      }
    },
    {
      "cell_type": "code",
      "source": [
        "num = [3,1,4,2]\n",
        "num.sort()\n",
        "print(num)\n",
        "num.sort(reverse = True)\n",
        "print(num)"
      ],
      "metadata": {
        "colab": {
          "base_uri": "https://localhost:8080/"
        },
        "id": "ORExJp1W0_SQ",
        "outputId": "0a81356f-0a82-433b-c62d-dc9048cb89eb"
      },
      "execution_count": null,
      "outputs": [
        {
          "output_type": "stream",
          "name": "stdout",
          "text": [
            "[1, 2, 3, 4]\n",
            "[4, 3, 2, 1]\n"
          ]
        }
      ]
    },
    {
      "cell_type": "markdown",
      "source": [
        "copy()"
      ],
      "metadata": {
        "id": "GdT37Ov81e8G"
      }
    },
    {
      "cell_type": "code",
      "source": [
        "num = [1,2,3,4]\n",
        "copy = num.copy()\n",
        "print(copy)"
      ],
      "metadata": {
        "colab": {
          "base_uri": "https://localhost:8080/"
        },
        "id": "UWqmRWHA1gMn",
        "outputId": "8ff6dfb8-8b79-4a8c-f7dd-fac725b95a74"
      },
      "execution_count": null,
      "outputs": [
        {
          "output_type": "stream",
          "name": "stdout",
          "text": [
            "[1, 2, 3, 4]\n"
          ]
        }
      ]
    },
    {
      "cell_type": "markdown",
      "source": [
        "len()\n"
      ],
      "metadata": {
        "id": "BKTAsUxE1y3W"
      }
    },
    {
      "cell_type": "code",
      "source": [
        "num = [1,2,3,4]\n",
        "print(len(num))"
      ],
      "metadata": {
        "colab": {
          "base_uri": "https://localhost:8080/"
        },
        "id": "TpRwy4Pu14nO",
        "outputId": "d2db1388-1c7b-48f8-9079-13338823d019"
      },
      "execution_count": null,
      "outputs": [
        {
          "output_type": "stream",
          "name": "stdout",
          "text": [
            "4\n"
          ]
        }
      ]
    },
    {
      "cell_type": "markdown",
      "source": [
        "sum()"
      ],
      "metadata": {
        "id": "RFuHGv9C2MjV"
      }
    },
    {
      "cell_type": "code",
      "source": [
        "num = [1,2,3,4]\n",
        "total = sum(num)//2\n",
        "print(total)"
      ],
      "metadata": {
        "colab": {
          "base_uri": "https://localhost:8080/"
        },
        "id": "jYPSuD-e2NhF",
        "outputId": "f55d271c-1ccd-4563-aacc-8f3391b61cec"
      },
      "execution_count": null,
      "outputs": [
        {
          "output_type": "stream",
          "name": "stdout",
          "text": [
            "5\n"
          ]
        }
      ]
    },
    {
      "cell_type": "markdown",
      "source": [
        "min and max"
      ],
      "metadata": {
        "id": "eO_q5OzL3CtN"
      }
    },
    {
      "cell_type": "code",
      "source": [
        "num = [1,2,3,4]\n",
        "min = min(num)\n",
        "max = max(num)\n",
        "print(min,max)"
      ],
      "metadata": {
        "colab": {
          "base_uri": "https://localhost:8080/"
        },
        "id": "TbRclC3X3CCb",
        "outputId": "ddf2ff6e-4ad4-4c65-855b-8261106bf1cf"
      },
      "execution_count": null,
      "outputs": [
        {
          "output_type": "stream",
          "name": "stdout",
          "text": [
            "1 4\n"
          ]
        }
      ]
    }
  ]
}