{
 "cells": [
  {
   "cell_type": "markdown",
   "id": "777a9b97",
   "metadata": {},
   "source": [
    "1) Write a Python function that takes a list of integers and returns a new list with all the even numbers doubled."
   ]
  },
  {
   "cell_type": "code",
   "execution_count": null,
   "id": "4f9888af",
   "metadata": {},
   "outputs": [
    {
     "name": "stdout",
     "output_type": "stream",
     "text": [
      "Doubled even numbers: [1, 4, 3, 8, 5, 12]\n"
     ]
    }
   ],
   "source": [
    "def double_even_numbers(int_list):\n",
    "    return [x * 2 if x % 2 == 0 else x for x in int_list]\n",
    "\n",
    "integers = [1, 2, 3, 4, 5, 6]\n",
    "doubled_evens = double_even_numbers(integers)\n",
    "print(\"Doubled even numbers:\", doubled_evens)\n",
    "\n"
   ]
  },
  {
   "cell_type": "markdown",
   "id": "54b10016",
   "metadata": {},
   "source": [
    "2) Given a list of strings, write code to remove all duplicate elements and print the unique list"
   ]
  },
  {
   "cell_type": "code",
   "execution_count": null,
   "id": "a090edea",
   "metadata": {},
   "outputs": [],
   "source": []
  }
 ],
 "metadata": {
  "kernelspec": {
   "display_name": "Python 3",
   "language": "python",
   "name": "python3"
  },
  "language_info": {
   "codemirror_mode": {
    "name": "ipython",
    "version": 3
   },
   "file_extension": ".py",
   "mimetype": "text/x-python",
   "name": "python",
   "nbconvert_exporter": "python",
   "pygments_lexer": "ipython3",
   "version": "3.13.4"
  }
 },
 "nbformat": 4,
 "nbformat_minor": 5
}
